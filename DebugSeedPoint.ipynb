{
 "cells": [
  {
   "cell_type": "code",
   "execution_count": 39,
   "metadata": {},
   "outputs": [],
   "source": [
    "import argparse\n",
    "import cv2\n",
    "import os\n",
    "import logging\n",
    "import uuid\n",
    "import math\n",
    "import numpy as np\n",
    "import matplotlib.pyplot as plt\n",
    "\n",
    "from scipy.stats import skew\n",
    "from utilities.AutomaticSegmentation import *"
   ]
  },
  {
   "cell_type": "code",
   "execution_count": 59,
   "metadata": {},
   "outputs": [
    {
     "name": "stdout",
     "output_type": "stream",
     "text": [
      "Seed point: [284.57624758 290.89125404]\n"
     ]
    }
   ],
   "source": [
    "# n = len(os.listdir(\"TestImages/bank\"))\n",
    "# c = 2\n",
    "# r = (n // 2) + 1\n",
    "\n",
    "# GAUSSIAN???\n",
    "# kernel = np.ones((16, 16))\n",
    "\n",
    "BOUNDARY_EXPAND = 30 # px\n",
    "MAX_DILATION_ROUNDS = 5\n",
    "CC_CONNECTIVITY = 8  \n",
    "kernel = cv2.getStructuringElement(cv2.MORPH_ELLIPSE,(16, 16))\n",
    "\n",
    "base_path = \"../TestImages/tricky\"\n",
    "for impath in os.listdir(base_path):\n",
    "    \n",
    "    path_to_image = \"{}/{}\".format(base_path, impath)\n",
    "    img = cv2.imread(path_to_image, cv2.IMREAD_GRAYSCALE)\n",
    "    seed_pt, ref_pt, enh = get_ROI(img)\n",
    "\n",
    "    enh_gray = (enh*255).astype(np.uint8)\n",
    "    \n",
    "#     I_rc = cv2.bitwise_not(cv2.morphologyEx(\n",
    "#         enh_gray, \n",
    "#         cv2.MORPH_OPEN, \n",
    "#         kernel))\n",
    "\n",
    "    I_rc = cv2.morphologyEx(\n",
    "        enh_gray, \n",
    "        cv2.MORPH_CLOSE, \n",
    "        kernel)\n",
    "   \n",
    "    otsu_thresh, img_morph = cv2.threshold(I_rc, 0,255, cv2.THRESH_BINARY + cv2.THRESH_OTSU)\n",
    "    \n",
    "#     plt.figure()\n",
    "#     plt.title(impath)\n",
    "#     plt.imshow(img_morph)\n",
    "#     plt.colorbar()\n",
    "#     plt.scatter(x=ref_pt[1], y=ref_pt[0], s=40, c='r')\n",
    "    \n",
    "    im2, contours, hierarchy = cv2.findContours(\n",
    "        img_morph,\n",
    "        cv2.RETR_TREE,\n",
    "        cv2.CHAIN_APPROX_SIMPLE)\n",
    "    \n",
    "    br = [cv2.boundingRect(c) for c in contours]\n",
    "    \n",
    "    print(\"Seed point: {}\".format(seed_pt))\n",
    "    \n",
    "    for r in br:\n",
    "        x,y,w,h = r\n",
    "        if (\n",
    "        seed_pt[1] > x and seed_pt[1] < x + w and\n",
    "            seed_pt[0] > y and seed_pt[0] < y + h\n",
    "        ):\n",
    "            cv2.rectangle(img,(x-25,y-25),(x+w+25,y+h),(0,255,0),2)\n",
    "            \n",
    "    plt.scatter(x=seed_pt[1], y=seed_pt[0], s=40, c='r')\n",
    "    plt.imshow(img)\n",
    "        \n",
    "#     br = [(b, idx) for idx, b in enumerate(br) if (\n",
    "#         (b[0] < seed_pt[1]) and \n",
    "#         (seed_pt[1] < (b[0] + b[2])) and\n",
    "#         (b[1] < seed_pt[0]) and \n",
    "#          (seed_pt[0] < (b[1] + b[3]))\n",
    "#     )]\n",
    "    break\n",
    "    \n",
    "    areas = [b[0][2] * b[0][3] for b in br]\n",
    "    min_rect, cont_ind = br[np.argmin(areas)]\n",
    "    \n",
    "    print(min_rect)\n",
    "    \n",
    "    x,y,w,h = min_rect\n",
    "    cv2.rectangle(img,(x,y),(x+w,y+h),(0,255,0),2)\n",
    "#     cv2.drawContours(img, contours, cont_ind, (0,255,0), 3)\n",
    "    plt.imshow(img)\n",
    "    print(len(contours))\n"
   ]
  },
  {
   "cell_type": "code",
   "execution_count": null,
   "metadata": {},
   "outputs": [],
   "source": [
    "def __determine_bounding_region(image, seed_point):\n",
    "    \n",
    "    I_rc = cv2.bitwise_not(cv2.morphologyEx(\n",
    "        image, \n",
    "        cv2.MORPH_OPEN, \n",
    "        kernel))\n",
    "    \n",
    "    plt.imshow(I_rc)\n",
    "    img_morph = cv2.threshold(I_rc, 0,255, cv2.THRESH_BINARY + cv2.THRESH_OTSU)\n",
    "    \n",
    "    # You need to choose 4 way simple connectivity\n",
    "    connectivity = 4  \n",
    "    # Perform the operation\n",
    "    output = cv2.connectedComponentsWithStats(img_morph, connectivity, cv2.CV_32S)\n",
    "    # Get the results\n",
    "    # The first cell is the number of labels\n",
    "    num_labels = output[0]\n",
    "    # The second cell is the label matrix\n",
    "    labels = output[1]\n",
    "    # The third cell is the stat matrix\n",
    "    stats = output[2]\n",
    "    # The fourth cell is the centroid matrix\n",
    "    centroids = output[3]\n",
    "    \n",
    "    print(labels)\n",
    "    print(stats)"
   ]
  },
  {
   "cell_type": "code",
   "execution_count": null,
   "metadata": {},
   "outputs": [],
   "source": [
    "img = cv2.imread(\"TestImages/bank/b39c6fb0-0f53-46d8-a0f2-455870676378.png\", cv2.IMREAD_GRAYSCALE)\n",
    "rp, enh = get_ROI(img)\n",
    "max_p, post_cands = __get_seed_point(enh, rp, nd=12, h=20, eps=1)\n",
    "\n",
    "kernel = np.ones((16, 16),np.uint8)\n",
    "# I_ro = cv2.erode(img, kernel = se, iterations = 1)\n",
    "# I_ro_c = cv2.bitwise_not(I_ro)\n",
    "\n",
    "# I_rc = cv2.bitwise_and(I_ro_c, I_ro_c, mask = cv2.bitwise_not(cv2.dilate(I_ro, kernel = se, iterations = 1)))\n",
    "I_rc = cv2.bitwise_not(cv2.morphologyEx(img, cv2.MORPH_OPEN, kernel))\n",
    "\n",
    "ret3,th3 = cv2.threshold(I_rc, 0,255, cv2.THRESH_BINARY + cv2.THRESH_OTSU)\n",
    "print(ret3)\n",
    "plt.imshow(th3)\n",
    "plt.colorbar()"
   ]
  },
  {
   "cell_type": "code",
   "execution_count": 4,
   "metadata": {},
   "outputs": [
    {
     "name": "stdout",
     "output_type": "stream",
     "text": [
      "Using matplotlib backend: MacOSX\n"
     ]
    }
   ],
   "source": [
    "%matplotlib"
   ]
  },
  {
   "cell_type": "code",
   "execution_count": null,
   "metadata": {},
   "outputs": [],
   "source": []
  }
 ],
 "metadata": {
  "kernelspec": {
   "display_name": "Python 3",
   "language": "python",
   "name": "python3"
  },
  "language_info": {
   "codemirror_mode": {
    "name": "ipython",
    "version": 3
   },
   "file_extension": ".py",
   "mimetype": "text/x-python",
   "name": "python",
   "nbconvert_exporter": "python",
   "pygments_lexer": "ipython3",
   "version": "3.5.5"
  }
 },
 "nbformat": 4,
 "nbformat_minor": 2
}
